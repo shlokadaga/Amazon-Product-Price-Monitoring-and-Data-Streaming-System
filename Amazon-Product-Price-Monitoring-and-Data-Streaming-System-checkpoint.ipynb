{
 "cells": [
  {
   "cell_type": "code",
   "execution_count": 85,
   "id": "d60ca57a-3f60-4e39-a01c-663a43ee1137",
   "metadata": {
    "scrolled": true
   },
   "outputs": [],
   "source": [
    "from selenium import webdriver\n",
    "from selenium.webdriver.common.by import By\n",
    "from selenium.webdriver.chrome.service import Service\n",
    "from webdriver_manager.chrome import ChromeDriverManager\n",
    "import time\n",
    "from selenium.webdriver.support.ui import WebDriverWait\n",
    "from selenium.webdriver.support import expected_conditions as EC"
   ]
  },
  {
   "cell_type": "code",
   "execution_count": 86,
   "id": "8824382e-c051-4e28-83e8-1c9b135c0f1a",
   "metadata": {},
   "outputs": [],
   "source": [
    "chrome_options = webdriver.ChromeOptions()\n",
    "chrome_options.add_argument(\"--headless\")\n",
    "chrome_options.add_argument(\"--no-sandbox\")\n",
    "chrome_options.add_argument(\"--disable-dev-shm-usage\")"
   ]
  },
  {
   "cell_type": "code",
   "execution_count": 87,
   "id": "92f25aad-cc56-4a6f-a0d7-51fe7b839617",
   "metadata": {},
   "outputs": [],
   "source": [
    "driver = webdriver.Chrome(service=Service(ChromeDriverManager().install()), options=chrome_options)"
   ]
  },
  {
   "cell_type": "code",
   "execution_count": 88,
   "id": "4194a103-cf0f-47d3-8650-5cef4bcaea00",
   "metadata": {},
   "outputs": [],
   "source": [
    "def get_amazon_product_data(url):\n",
    "    driver.get(url)\n",
    "    time.sleep(3)\n",
    "    try:\n",
    "        title = driver.find_element(By.ID, 'productTitle').text\n",
    "        \n",
    "        try:\n",
    "            price_element = driver.execute_script(\n",
    "            'return document.querySelector(\".a-price.a-text-price span.a-offscreen\")'\n",
    "            )\n",
    "            price = driver.execute_script(\"return arguments[0].textContent\", price_element)\n",
    "        except:\n",
    "            price = \"Price not available\"\n",
    "        \n",
    "        try:\n",
    "            features = driver.find_element(By.ID, 'feature-bullets').text\n",
    "        except:\n",
    "            features = \"Features not available\"\n",
    "        \n",
    "        try:\n",
    "            description = driver.find_element(By.ID, 'productDescription').text\n",
    "        except:\n",
    "            description = \"Description not available\"\n",
    "        \n",
    "        return {\n",
    "            \"Title\": title,\n",
    "            \"Price\": price,\n",
    "            \"Features\": features,\n",
    "            \"Description\": description\n",
    "        }\n",
    "    \n",
    "    except Exception as e:\n",
    "        return {\"Error\": str(e)}\n"
   ]
  },
  {
   "cell_type": "code",
   "execution_count": 89,
   "id": "e36cb844-8aa3-4836-9763-31a61ae2f39b",
   "metadata": {},
   "outputs": [
    {
     "name": "stdout",
     "output_type": "stream",
     "text": [
      "{'Title': 'Amazon Fire TV 50\" 4-Series, 4K UHD smart TV with Alexa Voice Remote Enhanced, stream live TV without cable', 'Price': '$449.99', 'Features': 'Bring movies and shows to life with support for vivid 4K Ultra HD, HDR 10, HLG, and Dolby Digital Plus.\\n4K Ultra HD, HDR 10, and HLG deliver a clearer and more vibrant picture with brighter colors compared to 1080p Full HD.\\nPress and ask Alexa to easily find, launch, and control your content, or check the weather, sports scores, and more.\\nStream over 1.5 million movies and TV episodes with subscriptions to Netflix, Prime Video, Disney+, and more. Subscription fees may apply.\\nWatch live and free TV, play video games, and stream music.\\nFire TV adds new Alexa skills, features, smart home capabilities, and voice functionality all the time.\\nUse the 4 HDMI inputs to connect all your gaming, cable and audio equipment.', 'Description': 'Description not available'}\n"
     ]
    }
   ],
   "source": [
    "url = 'https://www.amazon.com/dp/B08SVZ775L'\n",
    "product_data = get_amazon_product_data(url)\n",
    "\n",
    "\n",
    "print(product_data)\n",
    "driver.quit()"
   ]
  },
  {
   "cell_type": "code",
   "execution_count": 90,
   "id": "9b437cf0-46e2-4621-9781-8ac3531e3f37",
   "metadata": {},
   "outputs": [
    {
     "name": "stdout",
     "output_type": "stream",
     "text": [
      "Data sent to Kafka!\n"
     ]
    }
   ],
   "source": [
    "from kafka import KafkaProducer\n",
    "import json\n",
    "\n",
    "producer = KafkaProducer(\n",
    "    bootstrap_servers='localhost:9092',\n",
    "    value_serializer=lambda v: json.dumps(v).encode('utf-8')\n",
    ")\n",
    "\n",
    "def send_to_kafka(product_data):\n",
    "    producer.send('product-prices', product_data)\n",
    "    producer.flush()\n",
    "\n",
    "send_to_kafka(product_data)\n",
    "print(\"Data sent to Kafka!\")"
   ]
  },
  {
   "cell_type": "code",
   "execution_count": 91,
   "id": "6082e900-98bd-41c3-aebf-f331fe3f992c",
   "metadata": {},
   "outputs": [],
   "source": [
    "from pyspark.sql import SparkSession\n",
    "from pyspark.sql.functions import *\n",
    "\n",
    "spark = SparkSession.builder \\\n",
    "    .appName(\"Ecommerce Price Trackings\") \\\n",
    "    .getOrCreate()\n",
    "\n",
    "kafka_df = spark.readStream \\\n",
    "    .format(\"kafka\") \\\n",
    "    .option(\"kafka.bootstrap.servers\", \"localhost:9092\") \\\n",
    "    .option(\"subscribe\", \"product-prices\") \\\n",
    "    .load()\n",
    "\n",
    "product_df = kafka_df.selectExpr(\"CAST(value AS STRING)\").select(from_json(\"value\", \"struct<Product Name: string, Price: string, URL: string>\").alias(\"product\"))\n",
    "\n",
    "query = product_df.select(\"product.*\").writeStream.outputMode(\"append\").format(\"console\").start()\n",
    "query.awaitTermination()"
   ]
  },
  {
   "cell_type": "code",
   "execution_count": 92,
   "id": "7727f950-5a7a-489b-9927-0cac3968b1e1",
   "metadata": {},
   "outputs": [
    {
     "name": "stdout",
     "output_type": "stream",
     "text": [
      "Data inserted successfully!\n"
     ]
    }
   ],
   "source": [
    "from pymongo import MongoClient\n",
    "\n",
    "client = MongoClient('mongodb://localhost:27017/')\n",
    "db = client['ecommerce']\n",
    "collection = db['productprice']\n",
    "\n",
    "collection.insert_one(product_data)\n",
    "print(\"Data inserted successfully!\")\n"
   ]
  },
  {
   "cell_type": "code",
   "execution_count": 93,
   "id": "a7d67786-1d20-4eaa-acaa-36f5b0174969",
   "metadata": {},
   "outputs": [
    {
     "name": "stdout",
     "output_type": "stream",
     "text": [
      "Product Name: Amazon Fire TV 50\" 4-Series, 4K UHD smart TV with Alexa Voice Remote Enhanced, stream live TV without cable\n",
      "Price: $149.99\n",
      "------------------------------\n",
      "Product Name: Amazon Fire TV 50\" 4-Series, 4K UHD smart TV with Alexa Voice Remote Enhanced, stream live TV without cable\n",
      "Price: $449.99\n",
      "------------------------------\n"
     ]
    }
   ],
   "source": [
    "for product in collection.find():\n",
    "    print(f\"Product Name: {product.get('Title')}\")\n",
    "    print(f\"Price: {product.get('Price')}\")\n",
    "    print(\"-\" * 30)"
   ]
  },
  {
   "cell_type": "code",
   "execution_count": 97,
   "id": "06daf23d-cf04-439c-92f0-af590ff8b711",
   "metadata": {},
   "outputs": [
    {
     "name": "stdout",
     "output_type": "stream",
     "text": [
      "Price Alert for Amazon Fire TV 50\" 4-Series, 4K UHD smart TV with Alexa Voice Remote Enhanced, stream live TV without cable\n",
      "The price for Amazon Fire TV 50\" 4-Series, 4K UHD smart TV with Alexa Voice Remote Enhanced, stream live TV without cable has changed. Previous Price: 149.99, Current Price: $449.99. Change: 300.0\n"
     ]
    }
   ],
   "source": [
    "import re\n",
    "\n",
    "previous_price = None  # Initialize previous_price as None for comparison\n",
    "\n",
    "for product in collection.find():\n",
    "    current_price = product.get('Price')\n",
    "    \n",
    "    # Extract the number after the dollar sign using regex\n",
    "    match = re.search(r'\\$(\\d+\\.\\d+|\\d+)', current_price)\n",
    "    if match:\n",
    "        number = match.group(1)\n",
    "        currentprice1 = float(number) \n",
    "        \n",
    "    product_name = product.get('Title')\n",
    "    \n",
    "    if previous_price is not None:\n",
    "        pricechange = currentprice1 - previous_price\n",
    "        if pricechange != 0:\n",
    "            alert_subject = f\"Price Alert for {product_name}\"\n",
    "            alert_body = f\"The price for {product_name} has changed. Previous Price: {previous_price}, Current Price: {current_price}. Change: {pricechange}\"\n",
    "            print(alert_subject)\n",
    "            print(alert_body)\n",
    "    previous_price = currentprice1"
   ]
  },
  {
   "cell_type": "code",
   "execution_count": 98,
   "id": "bb9ff221-7dfc-40f8-adaa-66761d5331ad",
   "metadata": {},
   "outputs": [],
   "source": [
    "import streamlit as st\n",
    "import pandas as pd\n",
    "\n",
    "df = pd.DataFrame(data)\n",
    "st.title('E-commerce Price Tracker')\n",
    "st.write('Tracked Products and Prices:')\n",
    "st.dataframe(df)"
   ]
  },
  {
   "cell_type": "code",
   "execution_count": null,
   "id": "5c655206-4242-4657-817b-8a2209ed3e0c",
   "metadata": {},
   "outputs": [],
   "source": [
    "! streamlit run C:\\Users\\dagas\\anaconda3\\Lib\\site-packages\\ipykernel_launcher.py"
   ]
  },
  {
   "cell_type": "code",
   "execution_count": null,
   "id": "a576ff8c-71fd-4ad2-ac5a-5d97e5e8cd20",
   "metadata": {},
   "outputs": [],
   "source": []
  }
 ],
 "metadata": {
  "kernelspec": {
   "display_name": "Python 3 (ipykernel)",
   "language": "python",
   "name": "python3"
  },
  "language_info": {
   "codemirror_mode": {
    "name": "ipython",
    "version": 3
   },
   "file_extension": ".py",
   "mimetype": "text/x-python",
   "name": "python",
   "nbconvert_exporter": "python",
   "pygments_lexer": "ipython3",
   "version": "3.12.7"
  }
 },
 "nbformat": 4,
 "nbformat_minor": 5
}
